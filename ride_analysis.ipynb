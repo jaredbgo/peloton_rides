{
 "cells": [
  {
   "cell_type": "markdown",
   "metadata": {},
   "source": [
    "# Ride Analysis\n",
    "\n",
    "Our research questions are as follows:\n",
    "\n",
    "- Does instructor affect output?\n",
    "<br><i>Hypothesis: Olivia Amato is most difficult</i>\n",
    "\n",
    "- Do warmup rides affect output?\n",
    "<br><i>Hypothesis: They improve output</i>\n",
    "\n",
    "- Does ride type affect output?\n",
    "<br><i>Hypothesis: Yes, hardest being Climb and Intervals, and easiest being low impact</i>\n",
    "\n",
    "- Does music type affect output? \n",
    "<br><i>Hypothesis: No difference across genres</i>\n",
    "\n",
    "- Does ride length affect output?\n",
    "<br><i>Hypothesis: Shorter rides increase output</i>\n",
    "\n",
    "- Does time of day affect output? \n",
    "<br><i>Hypothesis: Worse in the early morning</i>\n",
    "\n",
    "\n",
    "After answering the above, we will build a model to predict output for a given ride as well as increases in performance over time."
   ]
  },
  {
   "cell_type": "code",
   "execution_count": 1,
   "metadata": {},
   "outputs": [],
   "source": [
    "import pandas as pd\n",
    "import numpy as np\n",
    "from datetime import datetime\n",
    "import statsmodels\n",
    "import statsmodels.api as sm\n",
    "from statsmodels.formula.api import ols\n",
    "import seaborn as sns\n",
    "import sklearn\n",
    "from sklearn.ensemble import RandomForestRegressor\n",
    "\n",
    "%matplotlib inline"
   ]
  },
  {
   "cell_type": "markdown",
   "metadata": {},
   "source": [
    "Before we begin, we start by cleaning the data:\n",
    "\n",
    "- Remove all non-cycling workouts, and those with no output\n",
    "- Label workouts with a warm up ride\n",
    "- Extract and code the music genre\n",
    "- Code rides by time of day\n",
    "- Code rides by instructor"
   ]
  },
  {
   "cell_type": "code",
   "execution_count": 2,
   "metadata": {},
   "outputs": [],
   "source": [
    "rides = pd.read_csv('user_workouts.csv')\n",
    "rides = rides[(rides['Fitness Discipline'] == 'Cycling') & (rides['Total Output'] > 3) & (~rides['Title'].str.contains('Cool Down'))]\n",
    "rides['had_warmup'] = rides.Title.str.contains('Warm Up').astype(int).shift(1).fillna(0).astype(int)\n",
    "rides = rides[~rides.Title.str.contains('Warm Up')]\n",
    "\n",
    "rides = rides.reset_index(drop=True).reset_index()\n",
    "\n",
    "#rides['calories_per_hour'] = (rides['Calories Burned'] / rides['Length (minutes)']) * 60\n",
    "# De-trending output\n",
    "rides['baseline_avg_watts']= rides['Avg. Watts'].rolling(window=5).mean().shift(1).fillna(rides['Avg. Watts'].iloc[0])\n",
    "\n",
    "#De-trending output using same timing of previous rides\n",
    "time_detrended = []\n",
    "for current_idx in rides['index']:\n",
    "    prev_rides = rides[rides['index'] < current_idx]\n",
    "    current_length = rides.iloc[current_idx]['Length (minutes)']\n",
    "    prev_rides = prev_rides[prev_rides['Length (minutes)'] == current_length]\n",
    "    if prev_rides.shape[0] == 0:\n",
    "        # If we dont have a single pervious ride of same length, just use original logic -- using average of last 5 rides\n",
    "        time_detrended.append(rides['baseline_avg_watts'].iloc[current_idx])\n",
    "    else:\n",
    "        time_detrended.append(prev_rides.sort_values(by='index').tail(5)['Avg. Watts'].mean())\n",
    "rides['baseline_avg_watts_by_time'] = time_detrended\n",
    "    \n",
    "\n",
    "# Defining y(s)\n",
    "rides['avg_watts_over_baseline'] = rides['Avg. Watts'] - rides['baseline_avg_watts']\n",
    "rides['avg_watts_over_baseline_by_time'] = rides['Avg. Watts'] - rides['baseline_avg_watts_by_time']\n",
    "\n",
    "\n",
    "rides['music_type'] = np.where(rides.Type == 'Music', rides.Title.str.extract(r'\\d+ min\\s(.*)\\sRide$',expand=False), 'other_genre')\n",
    "rides['music_type'] = np.where(rides.music_type.str.contains('Hip Hop'), 'Hip Hop', rides.music_type)\n",
    "rides['music_type'] = np.where(rides.music_type.str.contains('Hip Hop'), 'Hip Hop', rides.music_type)\n",
    "rides['music_type'] = np.where(rides.music_type.str.contains('Pop'), 'Pop', rides.music_type)\n",
    "rides['music_type'] = np.where(rides.music_type.str.contains('Beyonce'), 'Pop', rides.music_type)\n",
    "rides['music_type'] = np.where(rides.music_type.str.contains('Rock'), 'Rock', rides.music_type)\n",
    "rides['music_type'] = np.where(rides.music_type == 'Dance Music', 'EDM', rides.music_type)\n",
    "rides['music_type'] = np.where(rides.music_type == 'House', 'EDM', rides.music_type)\n",
    "rides['music_type'] = np.where(rides.music_type.str.contains('Post Malone'), 'Hip Hop', rides.music_type)\n",
    "\n",
    "rides['ride_time'] = pd.to_datetime(rides['Workout Timestamp'].str.replace(r'\\s\\([A-Z]{3}\\)', ''))\n",
    "rides['ride_hour'] = rides.ride_time.apply(lambda x: x.hour)\n",
    "rides['ride_hour_string'] = np.where(rides.ride_hour.isin([3,4,5,6,7,8,9]), \"early\", \"evening\")\n",
    "rides['ride_hour_string'] = np.where(rides.ride_hour.isin([10,11,12,13,14,15,16,17]), 'midday', rides['ride_hour_string'])\n",
    "\n",
    "# rides['early'] = np.where(rides.ride_hour.isin([3,4,5,6,7,8,9]), 1, 0)\n",
    "# rides['midday'] = np.where(rides.ride_hour.isin([10, 11, 12, 13, 14, 15, 16, 17]), 1, 0)\n",
    "# rides['evening'] = np.where(rides.ride_hour.isin([18, 19, 20, 21, 22, 23, 0,1,2 ]), 1, 0)\n",
    "\n",
    "instructor_counts = pd.DataFrame(rides.groupby('Instructor Name', as_index = False).size()).reset_index().rename(columns= {0:'ride_count'})\n",
    "instructor_exclude = instructor_counts[instructor_counts.ride_count < 5]['Instructor Name'].to_list()\n",
    "rides['clean_instructor'] = np.where(rides['Instructor Name'].isin(instructor_exclude), 'other_instructor', rides['Instructor Name'])\n",
    "\n",
    "for each in ['clean_instructor', 'music_type', 'Type', 'ride_hour_string']:\n",
    "    rides = pd.concat([rides, pd.get_dummies(rides[each])], axis=1)\n",
    "    \n",
    "instructors = rides['clean_instructor'].unique().tolist()\n",
    "times = ['early', 'midday', 'evening']\n",
    "genres = rides['music_type'].unique().tolist()\n",
    "types = rides['Type'].unique().tolist()"
   ]
  },
  {
   "cell_type": "markdown",
   "metadata": {},
   "source": [
    "### Does instructor affect output?\n",
    "\n",
    "Our hypothesis appears to be supported! Olvia Amato brings the most energy expendenture over baseline. However, differing sample sizes should be noted."
   ]
  },
  {
   "cell_type": "code",
   "execution_count": 3,
   "metadata": {},
   "outputs": [
    {
     "data": {
      "text/html": [
       "<div>\n",
       "<style scoped>\n",
       "    .dataframe tbody tr th:only-of-type {\n",
       "        vertical-align: middle;\n",
       "    }\n",
       "\n",
       "    .dataframe tbody tr th {\n",
       "        vertical-align: top;\n",
       "    }\n",
       "\n",
       "    .dataframe thead th {\n",
       "        text-align: right;\n",
       "    }\n",
       "</style>\n",
       "<table border=\"1\" class=\"dataframe\">\n",
       "  <thead>\n",
       "    <tr style=\"text-align: right;\">\n",
       "      <th></th>\n",
       "      <th>instructor</th>\n",
       "      <th>ride_count</th>\n",
       "      <th>avg_watts_over_baseline</th>\n",
       "    </tr>\n",
       "  </thead>\n",
       "  <tbody>\n",
       "    <tr>\n",
       "      <td>0</td>\n",
       "      <td>Olivia Amato</td>\n",
       "      <td>5</td>\n",
       "      <td>17.200000</td>\n",
       "    </tr>\n",
       "    <tr>\n",
       "      <td>1</td>\n",
       "      <td>Jess King</td>\n",
       "      <td>5</td>\n",
       "      <td>10.520000</td>\n",
       "    </tr>\n",
       "    <tr>\n",
       "      <td>2</td>\n",
       "      <td>Ally Love</td>\n",
       "      <td>16</td>\n",
       "      <td>7.450000</td>\n",
       "    </tr>\n",
       "    <tr>\n",
       "      <td>3</td>\n",
       "      <td>Kendall Toole</td>\n",
       "      <td>11</td>\n",
       "      <td>4.200000</td>\n",
       "    </tr>\n",
       "    <tr>\n",
       "      <td>4</td>\n",
       "      <td>Emma Lovewell</td>\n",
       "      <td>5</td>\n",
       "      <td>0.440000</td>\n",
       "    </tr>\n",
       "    <tr>\n",
       "      <td>5</td>\n",
       "      <td>Cody Rigsby</td>\n",
       "      <td>7</td>\n",
       "      <td>-0.714286</td>\n",
       "    </tr>\n",
       "    <tr>\n",
       "      <td>6</td>\n",
       "      <td>Alex Toussaint</td>\n",
       "      <td>48</td>\n",
       "      <td>-1.758333</td>\n",
       "    </tr>\n",
       "    <tr>\n",
       "      <td>7</td>\n",
       "      <td>Robin Arzon</td>\n",
       "      <td>5</td>\n",
       "      <td>-4.040000</td>\n",
       "    </tr>\n",
       "    <tr>\n",
       "      <td>8</td>\n",
       "      <td>Hannah Corbin</td>\n",
       "      <td>8</td>\n",
       "      <td>-4.800000</td>\n",
       "    </tr>\n",
       "    <tr>\n",
       "      <td>9</td>\n",
       "      <td>Tunde Oyeneyin</td>\n",
       "      <td>7</td>\n",
       "      <td>-7.228571</td>\n",
       "    </tr>\n",
       "  </tbody>\n",
       "</table>\n",
       "</div>"
      ],
      "text/plain": [
       "       instructor  ride_count  avg_watts_over_baseline\n",
       "0    Olivia Amato           5                17.200000\n",
       "1       Jess King           5                10.520000\n",
       "2       Ally Love          16                 7.450000\n",
       "3   Kendall Toole          11                 4.200000\n",
       "4   Emma Lovewell           5                 0.440000\n",
       "5     Cody Rigsby           7                -0.714286\n",
       "6  Alex Toussaint          48                -1.758333\n",
       "7     Robin Arzon           5                -4.040000\n",
       "8   Hannah Corbin           8                -4.800000\n",
       "9  Tunde Oyeneyin           7                -7.228571"
      ]
     },
     "execution_count": 3,
     "metadata": {},
     "output_type": "execute_result"
    }
   ],
   "source": [
    "rides[rides.clean_instructor != 'other_instructor'].groupby('clean_instructor', as_index=False).agg(\n",
    "    {'index': 'count',\n",
    "     'avg_watts_over_baseline': 'mean'}).sort_values(by='avg_watts_over_baseline', ascending=False).reset_index(\n",
    "    drop=True).rename(columns={'clean_instructor': 'instructor','index':'ride_count'})"
   ]
  },
  {
   "cell_type": "markdown",
   "metadata": {},
   "source": [
    "### Do warmup rides affect output?\n",
    "\n",
    "Our hypothesis appears to be supported! Warmup rides appear to significantly improve energy expendenture over baseline. Again, the large sample size differences should be noted."
   ]
  },
  {
   "cell_type": "code",
   "execution_count": 4,
   "metadata": {},
   "outputs": [
    {
     "data": {
      "text/html": [
       "<div>\n",
       "<style scoped>\n",
       "    .dataframe tbody tr th:only-of-type {\n",
       "        vertical-align: middle;\n",
       "    }\n",
       "\n",
       "    .dataframe tbody tr th {\n",
       "        vertical-align: top;\n",
       "    }\n",
       "\n",
       "    .dataframe thead th {\n",
       "        text-align: right;\n",
       "    }\n",
       "</style>\n",
       "<table border=\"1\" class=\"dataframe\">\n",
       "  <thead>\n",
       "    <tr style=\"text-align: right;\">\n",
       "      <th></th>\n",
       "      <th>had_warmup</th>\n",
       "      <th>ride_count</th>\n",
       "      <th>avg_watts_over_baseline</th>\n",
       "    </tr>\n",
       "  </thead>\n",
       "  <tbody>\n",
       "    <tr>\n",
       "      <td>0</td>\n",
       "      <td>1</td>\n",
       "      <td>4</td>\n",
       "      <td>32.850000</td>\n",
       "    </tr>\n",
       "    <tr>\n",
       "      <td>1</td>\n",
       "      <td>0</td>\n",
       "      <td>123</td>\n",
       "      <td>1.017886</td>\n",
       "    </tr>\n",
       "  </tbody>\n",
       "</table>\n",
       "</div>"
      ],
      "text/plain": [
       "   had_warmup  ride_count  avg_watts_over_baseline\n",
       "0           1           4                32.850000\n",
       "1           0         123                 1.017886"
      ]
     },
     "execution_count": 4,
     "metadata": {},
     "output_type": "execute_result"
    }
   ],
   "source": [
    "rides.groupby('had_warmup', as_index=False).agg(\n",
    "    {'index': 'count',\n",
    "     'avg_watts_over_baseline': 'mean'}).sort_values(by='avg_watts_over_baseline', ascending=False).reset_index(\n",
    "    drop=True).rename(columns={'index':'ride_count'})"
   ]
  },
  {
   "cell_type": "markdown",
   "metadata": {},
   "source": [
    "### Does ride type affect output?\n",
    "\n",
    "Our hypothesis appears to be ! Ride type appears to significantly improve energy expendenture over baseline, with Power Zone, Climb, and Intervals increasing output the most."
   ]
  },
  {
   "cell_type": "code",
   "execution_count": 5,
   "metadata": {},
   "outputs": [
    {
     "data": {
      "text/html": [
       "<div>\n",
       "<style scoped>\n",
       "    .dataframe tbody tr th:only-of-type {\n",
       "        vertical-align: middle;\n",
       "    }\n",
       "\n",
       "    .dataframe tbody tr th {\n",
       "        vertical-align: top;\n",
       "    }\n",
       "\n",
       "    .dataframe thead th {\n",
       "        text-align: right;\n",
       "    }\n",
       "</style>\n",
       "<table border=\"1\" class=\"dataframe\">\n",
       "  <thead>\n",
       "    <tr style=\"text-align: right;\">\n",
       "      <th></th>\n",
       "      <th>Type</th>\n",
       "      <th>ride_count</th>\n",
       "      <th>avg_watts_over_baseline</th>\n",
       "    </tr>\n",
       "  </thead>\n",
       "  <tbody>\n",
       "    <tr>\n",
       "      <td>0</td>\n",
       "      <td>Power Zone</td>\n",
       "      <td>3</td>\n",
       "      <td>29.133333</td>\n",
       "    </tr>\n",
       "    <tr>\n",
       "      <td>1</td>\n",
       "      <td>Climb</td>\n",
       "      <td>4</td>\n",
       "      <td>23.300000</td>\n",
       "    </tr>\n",
       "    <tr>\n",
       "      <td>2</td>\n",
       "      <td>Intervals</td>\n",
       "      <td>23</td>\n",
       "      <td>9.695652</td>\n",
       "    </tr>\n",
       "    <tr>\n",
       "      <td>3</td>\n",
       "      <td>Theme</td>\n",
       "      <td>18</td>\n",
       "      <td>2.322222</td>\n",
       "    </tr>\n",
       "    <tr>\n",
       "      <td>4</td>\n",
       "      <td>Music</td>\n",
       "      <td>69</td>\n",
       "      <td>2.307246</td>\n",
       "    </tr>\n",
       "    <tr>\n",
       "      <td>5</td>\n",
       "      <td>Beginner</td>\n",
       "      <td>1</td>\n",
       "      <td>-10.400000</td>\n",
       "    </tr>\n",
       "    <tr>\n",
       "      <td>6</td>\n",
       "      <td>Low Impact</td>\n",
       "      <td>9</td>\n",
       "      <td>-37.511111</td>\n",
       "    </tr>\n",
       "  </tbody>\n",
       "</table>\n",
       "</div>"
      ],
      "text/plain": [
       "         Type  ride_count  avg_watts_over_baseline\n",
       "0  Power Zone           3                29.133333\n",
       "1       Climb           4                23.300000\n",
       "2   Intervals          23                 9.695652\n",
       "3       Theme          18                 2.322222\n",
       "4       Music          69                 2.307246\n",
       "5    Beginner           1               -10.400000\n",
       "6  Low Impact           9               -37.511111"
      ]
     },
     "execution_count": 5,
     "metadata": {},
     "output_type": "execute_result"
    }
   ],
   "source": [
    "rides.groupby('Type', as_index=False).agg(\n",
    "    {'index': 'count',\n",
    "     'avg_watts_over_baseline': 'mean'}).sort_values(by='avg_watts_over_baseline', ascending=False).reset_index(\n",
    "    drop=True).rename(columns={'index':'ride_count'})"
   ]
  },
  {
   "cell_type": "markdown",
   "metadata": {},
   "source": [
    "### Does music type affect output?\n",
    "\n",
    "Our hypothesis appears to be generally supported! Although EDM appears to improve output, most genres do not help nor hinder one way or the other."
   ]
  },
  {
   "cell_type": "code",
   "execution_count": 6,
   "metadata": {},
   "outputs": [
    {
     "data": {
      "text/html": [
       "<div>\n",
       "<style scoped>\n",
       "    .dataframe tbody tr th:only-of-type {\n",
       "        vertical-align: middle;\n",
       "    }\n",
       "\n",
       "    .dataframe tbody tr th {\n",
       "        vertical-align: top;\n",
       "    }\n",
       "\n",
       "    .dataframe thead th {\n",
       "        text-align: right;\n",
       "    }\n",
       "</style>\n",
       "<table border=\"1\" class=\"dataframe\">\n",
       "  <thead>\n",
       "    <tr style=\"text-align: right;\">\n",
       "      <th></th>\n",
       "      <th>music_type</th>\n",
       "      <th>ride_count</th>\n",
       "      <th>avg_watts_over_baseline</th>\n",
       "    </tr>\n",
       "  </thead>\n",
       "  <tbody>\n",
       "    <tr>\n",
       "      <td>0</td>\n",
       "      <td>EDM</td>\n",
       "      <td>4</td>\n",
       "      <td>12.050000</td>\n",
       "    </tr>\n",
       "    <tr>\n",
       "      <td>1</td>\n",
       "      <td>New Tracks</td>\n",
       "      <td>6</td>\n",
       "      <td>6.566667</td>\n",
       "    </tr>\n",
       "    <tr>\n",
       "      <td>2</td>\n",
       "      <td>Rock</td>\n",
       "      <td>2</td>\n",
       "      <td>5.700000</td>\n",
       "    </tr>\n",
       "    <tr>\n",
       "      <td>3</td>\n",
       "      <td>80s</td>\n",
       "      <td>2</td>\n",
       "      <td>5.200000</td>\n",
       "    </tr>\n",
       "    <tr>\n",
       "      <td>4</td>\n",
       "      <td>R&amp;B</td>\n",
       "      <td>1</td>\n",
       "      <td>4.000000</td>\n",
       "    </tr>\n",
       "    <tr>\n",
       "      <td>5</td>\n",
       "      <td>2000s</td>\n",
       "      <td>11</td>\n",
       "      <td>2.963636</td>\n",
       "    </tr>\n",
       "    <tr>\n",
       "      <td>6</td>\n",
       "      <td>Pop</td>\n",
       "      <td>19</td>\n",
       "      <td>2.705263</td>\n",
       "    </tr>\n",
       "    <tr>\n",
       "      <td>7</td>\n",
       "      <td>other_genre</td>\n",
       "      <td>58</td>\n",
       "      <td>1.679310</td>\n",
       "    </tr>\n",
       "    <tr>\n",
       "      <td>8</td>\n",
       "      <td>2010s</td>\n",
       "      <td>1</td>\n",
       "      <td>0.600000</td>\n",
       "    </tr>\n",
       "    <tr>\n",
       "      <td>9</td>\n",
       "      <td>Hip Hop</td>\n",
       "      <td>17</td>\n",
       "      <td>-0.929412</td>\n",
       "    </tr>\n",
       "    <tr>\n",
       "      <td>10</td>\n",
       "      <td>90s</td>\n",
       "      <td>6</td>\n",
       "      <td>-3.833333</td>\n",
       "    </tr>\n",
       "  </tbody>\n",
       "</table>\n",
       "</div>"
      ],
      "text/plain": [
       "     music_type  ride_count  avg_watts_over_baseline\n",
       "0           EDM           4                12.050000\n",
       "1    New Tracks           6                 6.566667\n",
       "2          Rock           2                 5.700000\n",
       "3           80s           2                 5.200000\n",
       "4           R&B           1                 4.000000\n",
       "5         2000s          11                 2.963636\n",
       "6           Pop          19                 2.705263\n",
       "7   other_genre          58                 1.679310\n",
       "8         2010s           1                 0.600000\n",
       "9       Hip Hop          17                -0.929412\n",
       "10          90s           6                -3.833333"
      ]
     },
     "execution_count": 6,
     "metadata": {},
     "output_type": "execute_result"
    }
   ],
   "source": [
    "rides.groupby('music_type', as_index=False).agg(\n",
    "    {'index': 'count',\n",
    "     'avg_watts_over_baseline': 'mean'}).sort_values(by='avg_watts_over_baseline', ascending=False).reset_index(\n",
    "    drop=True).rename(columns={'index':'ride_count'})"
   ]
  },
  {
   "cell_type": "markdown",
   "metadata": {},
   "source": [
    "### Does ride length affect output?\n",
    "\n",
    "Our hypothesis appears to be generally supported! We will ignore the single 60 minute ride. Though our shortest rides have low output over baseline, half of these rides are 'Low Impact'. Our 15, 20 and 30 minute rides on average have output above baseline, while 45 minute rides have output below baseline. A negative relationship between ride length and output over baseline further confirms our hypothesis. "
   ]
  },
  {
   "cell_type": "code",
   "execution_count": 7,
   "metadata": {},
   "outputs": [
    {
     "data": {
      "text/html": [
       "<div>\n",
       "<style scoped>\n",
       "    .dataframe tbody tr th:only-of-type {\n",
       "        vertical-align: middle;\n",
       "    }\n",
       "\n",
       "    .dataframe tbody tr th {\n",
       "        vertical-align: top;\n",
       "    }\n",
       "\n",
       "    .dataframe thead th {\n",
       "        text-align: right;\n",
       "    }\n",
       "</style>\n",
       "<table border=\"1\" class=\"dataframe\">\n",
       "  <thead>\n",
       "    <tr style=\"text-align: right;\">\n",
       "      <th></th>\n",
       "      <th>Length (minutes)</th>\n",
       "      <th>ride_count</th>\n",
       "      <th>avg_watts_over_baseline</th>\n",
       "    </tr>\n",
       "  </thead>\n",
       "  <tbody>\n",
       "    <tr>\n",
       "      <td>0</td>\n",
       "      <td>60</td>\n",
       "      <td>1</td>\n",
       "      <td>14.200000</td>\n",
       "    </tr>\n",
       "    <tr>\n",
       "      <td>1</td>\n",
       "      <td>20</td>\n",
       "      <td>24</td>\n",
       "      <td>9.500000</td>\n",
       "    </tr>\n",
       "    <tr>\n",
       "      <td>2</td>\n",
       "      <td>30</td>\n",
       "      <td>77</td>\n",
       "      <td>2.348052</td>\n",
       "    </tr>\n",
       "    <tr>\n",
       "      <td>3</td>\n",
       "      <td>15</td>\n",
       "      <td>4</td>\n",
       "      <td>1.150000</td>\n",
       "    </tr>\n",
       "    <tr>\n",
       "      <td>4</td>\n",
       "      <td>45</td>\n",
       "      <td>15</td>\n",
       "      <td>-4.186667</td>\n",
       "    </tr>\n",
       "    <tr>\n",
       "      <td>5</td>\n",
       "      <td>10</td>\n",
       "      <td>6</td>\n",
       "      <td>-18.033333</td>\n",
       "    </tr>\n",
       "  </tbody>\n",
       "</table>\n",
       "</div>"
      ],
      "text/plain": [
       "   Length (minutes)  ride_count  avg_watts_over_baseline\n",
       "0                60           1                14.200000\n",
       "1                20          24                 9.500000\n",
       "2                30          77                 2.348052\n",
       "3                15           4                 1.150000\n",
       "4                45          15                -4.186667\n",
       "5                10           6               -18.033333"
      ]
     },
     "execution_count": 7,
     "metadata": {},
     "output_type": "execute_result"
    }
   ],
   "source": [
    "rides.groupby('Length (minutes)', as_index=False).agg(\n",
    "    {'index': 'count',\n",
    "     'avg_watts_over_baseline': 'mean'}).sort_values(by='avg_watts_over_baseline', ascending=False).reset_index(\n",
    "    drop=True).rename(columns={'index':'ride_count'})"
   ]
  },
  {
   "cell_type": "code",
   "execution_count": 8,
   "metadata": {},
   "outputs": [
    {
     "data": {
      "text/plain": [
       "<matplotlib.axes._subplots.AxesSubplot at 0x7ff5f967e390>"
      ]
     },
     "execution_count": 8,
     "metadata": {},
     "output_type": "execute_result"
    },
    {
     "data": {
      "image/png": "[encoded data removed]",
      "text/plain": [
       "<Figure size 432x288 with 1 Axes>"
      ]
     },
     "metadata": {
      "needs_background": "light"
     },
     "output_type": "display_data"
    }
   ],
   "source": [
    "sns.regplot(x='Length (minutes)', y='avg_watts_over_baseline', data=rides[rides['Length (minutes)'] >=20])"
   ]
  },
  {
   "cell_type": "code",
   "execution_count": 9,
   "metadata": {},
   "outputs": [
    {
     "data": {
      "text/html": [
       "<div>\n",
       "<style scoped>\n",
       "    .dataframe tbody tr th:only-of-type {\n",
       "        vertical-align: middle;\n",
       "    }\n",
       "\n",
       "    .dataframe tbody tr th {\n",
       "        vertical-align: top;\n",
       "    }\n",
       "\n",
       "    .dataframe thead th {\n",
       "        text-align: right;\n",
       "    }\n",
       "</style>\n",
       "<table border=\"1\" class=\"dataframe\">\n",
       "  <thead>\n",
       "    <tr style=\"text-align: right;\">\n",
       "      <th></th>\n",
       "      <th>Type</th>\n",
       "      <th>ride_count</th>\n",
       "    </tr>\n",
       "  </thead>\n",
       "  <tbody>\n",
       "    <tr>\n",
       "      <td>0</td>\n",
       "      <td>Climb</td>\n",
       "      <td>3</td>\n",
       "    </tr>\n",
       "    <tr>\n",
       "      <td>1</td>\n",
       "      <td>Low Impact</td>\n",
       "      <td>3</td>\n",
       "    </tr>\n",
       "  </tbody>\n",
       "</table>\n",
       "</div>"
      ],
      "text/plain": [
       "         Type  ride_count\n",
       "0       Climb           3\n",
       "1  Low Impact           3"
      ]
     },
     "execution_count": 9,
     "metadata": {},
     "output_type": "execute_result"
    }
   ],
   "source": [
    "rides[rides['Length (minutes)'] == 10].groupby('Type', as_index=False).agg(\n",
    "    {'index': 'count'}).rename(columns={'index':'ride_count'})"
   ]
  },
  {
   "cell_type": "markdown",
   "metadata": {},
   "source": [
    "### Does time of day affect output?\n",
    "\n",
    "Our hypothesis appears to be rejected! We tend to outperform early in the morining."
   ]
  },
  {
   "cell_type": "code",
   "execution_count": 10,
   "metadata": {},
   "outputs": [
    {
     "data": {
      "text/html": [
       "<div>\n",
       "<style scoped>\n",
       "    .dataframe tbody tr th:only-of-type {\n",
       "        vertical-align: middle;\n",
       "    }\n",
       "\n",
       "    .dataframe tbody tr th {\n",
       "        vertical-align: top;\n",
       "    }\n",
       "\n",
       "    .dataframe thead th {\n",
       "        text-align: right;\n",
       "    }\n",
       "</style>\n",
       "<table border=\"1\" class=\"dataframe\">\n",
       "  <thead>\n",
       "    <tr style=\"text-align: right;\">\n",
       "      <th></th>\n",
       "      <th>ride_hour_string</th>\n",
       "      <th>ride_count</th>\n",
       "      <th>avg_watts_over_baseline</th>\n",
       "    </tr>\n",
       "  </thead>\n",
       "  <tbody>\n",
       "    <tr>\n",
       "      <td>0</td>\n",
       "      <td>early</td>\n",
       "      <td>10</td>\n",
       "      <td>8.200000</td>\n",
       "    </tr>\n",
       "    <tr>\n",
       "      <td>1</td>\n",
       "      <td>evening</td>\n",
       "      <td>62</td>\n",
       "      <td>1.632258</td>\n",
       "    </tr>\n",
       "    <tr>\n",
       "      <td>2</td>\n",
       "      <td>midday</td>\n",
       "      <td>55</td>\n",
       "      <td>1.334545</td>\n",
       "    </tr>\n",
       "  </tbody>\n",
       "</table>\n",
       "</div>"
      ],
      "text/plain": [
       "  ride_hour_string  ride_count  avg_watts_over_baseline\n",
       "0            early          10                 8.200000\n",
       "1          evening          62                 1.632258\n",
       "2           midday          55                 1.334545"
      ]
     },
     "execution_count": 10,
     "metadata": {},
     "output_type": "execute_result"
    }
   ],
   "source": [
    "rides.groupby('ride_hour_string', as_index=False).agg(\n",
    "    {'index': 'count',\n",
    "    'avg_watts_over_baseline': 'mean'}).sort_values(by='avg_watts_over_baseline', ascending=False).reset_index(\n",
    "    drop=True).rename(columns={'index':'ride_count'})"
   ]
  },
  {
   "cell_type": "markdown",
   "metadata": {},
   "source": [
    "## Modelling Next Ride Output\n",
    "\n",
    "From the above analysis, we will build a model to predict the average and total output of an upcoming ride. We will use instructor, whether there was a warmup ride, ride length, ride type, and whether it was an early ride to predict output above or below baseline. We will then use the baseline from the previous 5 rides to predict total output."
   ]
  },
  {
   "cell_type": "code",
   "execution_count": 11,
   "metadata": {},
   "outputs": [],
   "source": [
    "def predict_next_ride(trainer,model, instructor,warmup, length, early, ride_type):\n",
    "    if instructor not in instructors:\n",
    "        print('Invalid Instructor')\n",
    "        return {}\n",
    "    if ride_type not in types:\n",
    "        print('Invalid ride_type')\n",
    "        return {}\n",
    "    if type(warmup) != bool:\n",
    "        print('warmup must be True or False')\n",
    "        return {}\n",
    "    if type(early) != bool:\n",
    "        print('early must be True or False')\n",
    "        return {}\n",
    "    \n",
    "    baseline = trainer[trainer['Length (minutes)'] == length].sort_values(by='ride_time').tail(5)['Avg. Watts'].mean()\n",
    "    \n",
    "    instructor_list = list(np.repeat(0, len(instructors)))\n",
    "    instructor_index = instructors.index(instructor)\n",
    "    instructor_list[instructor_index] = 1\n",
    "    \n",
    "    middle_list = [int(warmup),length,int(early)]\n",
    "    \n",
    "    type_list = list(np.repeat(0, len(types)))\n",
    "    type_index = types.index(ride_type)\n",
    "    type_list[type_index] = 1\n",
    "    \n",
    "    baseline_change_pred = model.predict([instructor_list + middle_list + type_list])[0]\n",
    "    total_output_pred = ((baseline + baseline_change_pred)*length*60) / 1000\n",
    "    \n",
    "    return {'predicted_change_from_baseline':round(baseline_change_pred, 2),'predicted_total_output':round(total_output_pred, 2)}"
   ]
  },
  {
   "cell_type": "code",
   "execution_count": 12,
   "metadata": {},
   "outputs": [
    {
     "data": {
      "text/plain": [
       "RandomForestRegressor(bootstrap=True, criterion='mae', max_depth=None,\n",
       "                      max_features='auto', max_leaf_nodes=None,\n",
       "                      min_impurity_decrease=0.0, min_impurity_split=None,\n",
       "                      min_samples_leaf=1, min_samples_split=2,\n",
       "                      min_weight_fraction_leaf=0.0, n_estimators=25,\n",
       "                      n_jobs=None, oob_score=False, random_state=None,\n",
       "                      verbose=0, warm_start=False)"
      ]
     },
     "execution_count": 12,
     "metadata": {},
     "output_type": "execute_result"
    }
   ],
   "source": [
    "#Predict Next Ride\n",
    "\n",
    "train_cols = instructors + ['had_warmup', 'Length (minutes)','early'] + types\n",
    "all_train = rides[train_cols]\n",
    "all_y = rides['avg_watts_over_baseline_by_time']\n",
    "model = RandomForestRegressor(n_estimators=25, criterion='mae')\n",
    "model.fit(all_train, all_y)"
   ]
  },
  {
   "cell_type": "code",
   "execution_count": 13,
   "metadata": {},
   "outputs": [
    {
     "name": "stdout",
     "output_type": "stream",
     "text": [
      "{'predicted_change_from_baseline': 17.56, 'predicted_total_output': 621.22}\n"
     ]
    }
   ],
   "source": [
    "#Sandbox\n",
    "print(predict_next_ride(rides,model,instructor='Ally Love', warmup=False,length=60,early=False,ride_type='Theme'))"
   ]
  },
  {
   "cell_type": "code",
   "execution_count": 14,
   "metadata": {},
   "outputs": [],
   "source": [
    "def latest_rides_crossval(num_cv, target='avg_watts_over_baseline_by_time', criterion='mae', n_estimators=25):\n",
    "    train_cols = instructors + ['had_warmup', 'Length (minutes)','early'] + types\n",
    "    tester = rides.tail(num_cv)\n",
    "    rez_list = []\n",
    "    for rowdict in tester.to_dict('records'):\n",
    "        idx = rowdict['index']\n",
    "        trainer = rides[rides['index'] < idx]\n",
    "        rides_train = trainer[train_cols]\n",
    "        rides_y = trainer[target]\n",
    "        mymodel = RandomForestRegressor(n_estimators=n_estimators, criterion=criterion)\n",
    "        mymodel.fit(rides_train, rides_y)\n",
    "\n",
    "        test_instructor = rowdict['clean_instructor']\n",
    "        test_warmup = bool(rowdict['had_warmup'])\n",
    "        test_length = rowdict['Length (minutes)']\n",
    "        test_early = bool(rowdict['early'])\n",
    "        test_type = rowdict['Type']\n",
    "\n",
    "        prediction = predict_next_ride(trainer,mymodel,test_instructor, test_warmup,test_length,test_early,test_type)\n",
    "        actual = rowdict['Total Output']\n",
    "\n",
    "        rez_list.append({'pred_index': idx, \n",
    "                         'instructor': test_instructor,\n",
    "                         'had_warmup': test_warmup, \n",
    "                         'length': test_length,\n",
    "                         'is_early': test_early, \n",
    "                         'ride_type': test_type, \n",
    "                         'predicted_total_output': prediction['predicted_total_output'], \n",
    "                         'observed_total_output': actual})\n",
    "\n",
    "\n",
    "    return pd.DataFrame(rez_list)"
   ]
  },
  {
   "cell_type": "code",
   "execution_count": 15,
   "metadata": {},
   "outputs": [
    {
     "name": "stdout",
     "output_type": "stream",
     "text": [
      "{'original_baseline_MAE': 24.48, 'time_baseline_MAE': 23.4}\n"
     ]
    }
   ],
   "source": [
    "# We should be incorporating ride length into our baseline. Let's see if that improves the model!\n",
    "\n",
    "original_baseline_rez = latest_rides_crossval(20, 'avg_watts_over_baseline')\n",
    "time_baseline_rez = latest_rides_crossval(20, 'avg_watts_over_baseline_by_time')\n",
    "\n",
    "original_mae = round((original_baseline_rez.predicted_total_output - original_baseline_rez.observed_total_output).abs().mean(), 2)\n",
    "time_mae = round((time_baseline_rez.predicted_total_output - time_baseline_rez.observed_total_output).abs().mean(), 2)\n",
    "\n",
    "# We see improvement using a baseline partitioned by length!\n",
    "model_results = {'original_baseline_MAE': original_mae, 'time_baseline_MAE': time_mae}\n",
    "print(model_results)"
   ]
  },
  {
   "cell_type": "code",
   "execution_count": 16,
   "metadata": {
    "scrolled": true
   },
   "outputs": [
    {
     "data": {
      "text/html": [
       "<div>\n",
       "<style scoped>\n",
       "    .dataframe tbody tr th:only-of-type {\n",
       "        vertical-align: middle;\n",
       "    }\n",
       "\n",
       "    .dataframe tbody tr th {\n",
       "        vertical-align: top;\n",
       "    }\n",
       "\n",
       "    .dataframe thead th {\n",
       "        text-align: right;\n",
       "    }\n",
       "</style>\n",
       "<table border=\"1\" class=\"dataframe\">\n",
       "  <thead>\n",
       "    <tr style=\"text-align: right;\">\n",
       "      <th></th>\n",
       "      <th>original_baseline_MAE</th>\n",
       "      <th>time_baseline_MAE</th>\n",
       "      <th>mae_100_MAE</th>\n",
       "      <th>mae_5_MAE</th>\n",
       "      <th>mae_10_MAE</th>\n",
       "      <th>mae_25_MAE</th>\n",
       "      <th>mae_50_MAE</th>\n",
       "      <th>mae_75_MAE</th>\n",
       "    </tr>\n",
       "  </thead>\n",
       "  <tbody>\n",
       "    <tr>\n",
       "      <td>0</td>\n",
       "      <td>24.48</td>\n",
       "      <td>23.4</td>\n",
       "      <td>20.54</td>\n",
       "      <td>23.7</td>\n",
       "      <td>19.38</td>\n",
       "      <td>18.45</td>\n",
       "      <td>21.17</td>\n",
       "      <td>21.08</td>\n",
       "    </tr>\n",
       "  </tbody>\n",
       "</table>\n",
       "</div>"
      ],
      "text/plain": [
       "   original_baseline_MAE  time_baseline_MAE  mae_100_MAE  mae_5_MAE  \\\n",
       "0                  24.48               23.4        20.54       23.7   \n",
       "\n",
       "   mae_10_MAE  mae_25_MAE  mae_50_MAE  mae_75_MAE  \n",
       "0       19.38       18.45       21.17       21.08  "
      ]
     },
     "execution_count": 16,
     "metadata": {},
     "output_type": "execute_result"
    }
   ],
   "source": [
    "# Lets play around with model attributes to look for performance increases\n",
    "\n",
    "# First let's check if using mae instead of mse helps\n",
    "mae_100_rez = latest_rides_crossval(20, 'avg_watts_over_baseline_by_time', criterion = 'mae')\n",
    "model_results['mae_100_MAE'] = round((mae_100_rez.predicted_total_output - mae_100_rez.observed_total_output).abs().mean(), 2)\n",
    "\n",
    "# It does! Now let's find the optimal forest size\n",
    "for treecount in [5, 10, 25, 50, 75]:\n",
    "    rez = latest_rides_crossval(20, 'avg_watts_over_baseline_by_time', criterion='mae', n_estimators=treecount)\n",
    "    model_results['mae_{}_MAE'.format(treecount)] = round((rez.predicted_total_output - rez.observed_total_output).abs().mean(), 2)\n",
    "    \n",
    "# Looks like using mae and 25 trees gives the best results!\n",
    "pd.DataFrame(model_results, index = [0])\n",
    "    "
   ]
  },
  {
   "cell_type": "code",
   "execution_count": 18,
   "metadata": {},
   "outputs": [
    {
     "data": {
      "text/plain": [
       "<matplotlib.axes._subplots.AxesSubplot at 0x7ff6387f0fd0>"
      ]
     },
     "execution_count": 18,
     "metadata": {},
     "output_type": "execute_result"
    },
    {
     "data": {
      "image/png": "[encoded data removed]",
      "text/plain": [
       "<Figure size 432x288 with 1 Axes>"
      ]
     },
     "metadata": {
      "needs_background": "light"
     },
     "output_type": "display_data"
    }
   ],
   "source": [
    "previous_5_oob = latest_rides_crossval(5, n_estimators=25, criterion='mae')\n",
    "previous_5_oob['ridename'] = previous_5_oob['instructor'] + '_' + previous_5_oob['length'].astype(str) + '_minute_' + previous_5_oob['ride_type']\n",
    "previous_5_oob.plot(x='ridename', y=['predicted_total_output', 'observed_total_output'],rot=45, style='o--',xticks = previous_5_oob.index)"
   ]
  }
 ],
 "metadata": {
  "kernelspec": {
   "display_name": "Python 3",
   "language": "python",
   "name": "python3"
  },
  "language_info": {
   "codemirror_mode": {
    "name": "ipython",
    "version": 3
   },
   "file_extension": ".py",
   "mimetype": "text/x-python",
   "name": "python",
   "nbconvert_exporter": "python",
   "pygments_lexer": "ipython3",
   "version": "3.7.4"
  }
 },
 "nbformat": 4,
 "nbformat_minor": 2
}
